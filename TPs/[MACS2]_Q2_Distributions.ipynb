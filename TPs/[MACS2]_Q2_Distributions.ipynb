{
  "cells": [
    {
      "cell_type": "markdown",
      "metadata": {
        "id": "v2DxpX69F0ai"
      },
      "source": [
        "# Exercice de statistique.\n",
        "\n",
        "Il s'agit d'un exemple sur lequel nous avait fait travailler Jean-Pierre Kahanne (1926-2017) en 1985 à Orsay (Paris 11) dans le cadre de la license de statistique.\n",
        "\n",
        "Nous allons jouer à Pile ou face !"
      ]
    },
    {
      "cell_type": "code",
      "execution_count": 2,
      "metadata": {
        "id": "jRfvMMT6GTUT"
      },
      "outputs": [],
      "source": [
        "import os\n",
        "import numpy as np\n",
        "import pandas as pd\n",
        "import matplotlib.pyplot as plt\n",
        "import seaborn as sns\n",
        "%matplotlib inline"
      ]
    },
    {
      "cell_type": "markdown",
      "metadata": {
        "id": "FbOrgKMoJnAo"
      },
      "source": [
        "## 1. Connexion à Google Collab.\n",
        "\n",
        "_(Passer cette section si vous êtes sur une autre environnement.)_"
      ]
    },
    {
      "cell_type": "code",
      "execution_count": 4,
      "metadata": {
        "colab": {
          "base_uri": "https://localhost:8080/"
        },
        "id": "RCqxWmhZJmER",
        "outputId": "79758b86-72a1-4864-9f9e-39115b3df3de"
      },
      "outputs": [
        {
          "name": "stdout",
          "output_type": "stream",
          "text": [
            "Mounted at /content/drive\n"
          ]
        }
      ],
      "source": [
        "from google.colab import drive\n",
        "drive.mount('/content/drive')"
      ]
    },
    {
      "cell_type": "markdown",
      "metadata": {
        "id": "kUihNIj3J3EX"
      },
      "source": [
        "## 2. Accès au fichier de données.\n",
        "\n",
        "_(Remplacer le nom du répertoire de données si nécessaire.)_"
      ]
    },
    {
      "cell_type": "code",
      "execution_count": 5,
      "metadata": {
        "colab": {
          "base_uri": "https://localhost:8080/"
        },
        "id": "x99onNq8J6YO",
        "outputId": "8c7535d7-3e30-464f-e935-ac2135f3e77a"
      },
      "outputs": [
        {
          "name": "stdout",
          "output_type": "stream",
          "text": [
            "/content/drive/MyDrive/data/formulaires/[MACS2] Q2 - Pile ou face.csv\n"
          ]
        }
      ],
      "source": [
        "# Changer le nom du répertoire de données si nécessaire.\n",
        "datadir = '/content/drive/MyDrive/data/formulaires'\n",
        "files = os.listdir(datadir)\n",
        "# On recherche le résultat du second questionnaire.\n",
        "q2files = [file for file in files if 'Q2' in file]\n",
        "filename = os.path.join(datadir,q2files[0])\n",
        "print(filename)"
      ]
    },
    {
      "cell_type": "markdown",
      "metadata": {
        "id": "PVP_XzcNi_uI"
      },
      "source": [
        "## 3. Lecture du fichier de données.\n",
        "\n",
        "On utilise pandas pour mettre le contenu du fichier dans un dataframe, mais comme on n'a qu'une seule variable qui contient des champs textes on vala mettre dans une liste."
      ]
    },
    {
      "cell_type": "code",
      "execution_count": 11,
      "metadata": {
        "id": "o2f4UmFmVuHG"
      },
      "outputs": [
        {
          "name": "stdout",
          "output_type": "stream",
          "text": [
            "                     Horodateur                       Nom      Tirage\n",
            "0  2023/01/24 11:46:07 AM UTC+1   yanis.kahil01@gmail.com        Face\n",
            "1  2023/01/24 11:46:12 AM UTC+1      mo.lahjaji@gmail.com       Pile \n",
            "2  2023/01/24 11:46:19 AM UTC+1    rubertisteve@gmail.com           P\n",
            "3  2023/01/24 11:46:40 AM UTC+1    yakoubielies@gmail.com       Face \n",
            "4  2023/01/24 11:46:41 AM UTC+1  bittonsharon19@gmail.com  PFPPPPPFFF\n"
          ]
        }
      ],
      "source": [
        "filename= \"form2.csv\"\n",
        "df = pd.read_csv(filename)\n",
        "print(df.head())\n",
        "pof = list(df.iloc[:,2])"
      ]
    },
    {
      "cell_type": "markdown",
      "metadata": {
        "id": "DFUJAx_y0tOp"
      },
      "source": [
        "### 3.1 Transformation numérique\n",
        "\n",
        "On va remplacer la liste de chaines de caractères précédent par une liste de liste de tableaux numériques (`np.array`) de 0 et 1.\n",
        "\n",
        "Attention à prendre soin de corriger les mauvais caractères en les supprimant et à gérer majuscules et minuscules.\n",
        "\n",
        "_Aide: utiliser une boucle et une comprehension._"
      ]
    },
    {
      "cell_type": "code",
      "execution_count": 32,
      "metadata": {},
      "outputs": [
        {
          "data": {
            "text/plain": [
              "[array([0]),\n",
              " array([1]),\n",
              " array([1]),\n",
              " array([0]),\n",
              " array([1, 0, 1, 1, 1, 1, 1, 0, 0, 0]),\n",
              " array([1]),\n",
              " array([1]),\n",
              " array([0, 1, 0, 1, 0, 0, 0, 0, 1, 1, 1, 0, 1]),\n",
              " array([1, 0, 0, 0]),\n",
              " array([1]),\n",
              " array([1, 0, 1, 0, 0, 0, 1, 0, 0, 0, 0, 0, 1, 0, 0, 1, 0, 0, 1, 0, 0, 1,\n",
              "        1]),\n",
              " array([1, 0, 0, 0, 1, 1, 1, 1, 1, 0, 1, 1, 0, 0, 0, 1, 1, 1, 0, 0, 0, 1,\n",
              "        1, 1, 0, 0, 1, 0, 1, 0, 1, 0, 1, 0, 1, 0, 1, 1, 1, 0, 0, 0]),\n",
              " array([1, 0, 0, 0, 1, 1, 1, 0, 1, 0, 1, 0, 1, 1, 0, 0, 0, 0, 1, 0, 1, 0,\n",
              "        1, 1]),\n",
              " array([1, 0, 1, 0, 1, 1, 0, 1, 0, 1, 0, 1, 0, 1, 1, 0, 1]),\n",
              " array([1, 1, 0, 1, 0, 1, 0, 1, 0, 1, 1, 1, 0, 0, 0, 0, 1, 0, 1, 0, 1, 0,\n",
              "        1, 0, 1, 0, 1, 1, 1, 1, 0, 0, 0, 1, 1, 0, 0, 1, 0, 1, 0, 1, 0, 1,\n",
              "        0, 1, 0, 0, 0, 0, 1, 0, 1, 1, 0, 1, 1, 1, 0, 0, 0, 1, 0, 1, 1, 1,\n",
              "        0, 0, 0, 1, 0, 1, 1, 0, 0, 0, 1, 1, 0, 1, 1, 0, 0, 1, 1, 1, 0, 1,\n",
              "        1, 1, 0, 0, 1, 0, 1, 1, 0, 1, 1, 1, 0, 0, 0, 0, 1, 1, 1, 0, 0, 1,\n",
              "        1, 1, 1]),\n",
              " array([1, 1, 0, 1, 0, 1, 0, 1, 1, 0, 0, 0, 1, 0, 1, 1, 1, 0, 0, 0, 1, 0,\n",
              "        1, 0, 0, 0, 1, 0, 1, 0, 1, 1, 1, 0, 0, 0, 0, 1, 0, 1, 0, 0, 0, 1,\n",
              "        1, 1, 0, 0, 1, 1, 1, 1, 1, 0, 0, 0, 0, 0, 1, 1, 0, 1, 1]),\n",
              " array([1, 1, 0, 1, 0, 0, 0, 1, 0, 1, 0, 1, 0, 0, 1, 1, 0, 1, 0, 1, 1, 0,\n",
              "        0, 0, 0, 1, 1, 1, 1, 0, 1, 0, 1, 0, 1, 0, 1, 0, 1, 0, 1, 0, 1, 0,\n",
              "        1, 0, 1, 0, 1, 0, 1, 0, 1, 0, 1, 0, 1, 1, 1, 1, 1, 0, 1, 0, 1, 1,\n",
              "        1, 0, 1, 0, 1, 1, 0, 1, 0, 1, 0, 1, 0, 1, 0, 1, 0, 0, 0, 0, 0, 0,\n",
              "        0, 0, 0, 1, 0, 1, 0, 0, 1, 0, 1, 0, 1, 0, 1, 0, 1, 0, 1, 1, 0, 1,\n",
              "        0, 1, 0, 1, 0, 1, 1, 0, 1, 0, 1, 0, 1, 0, 0, 1, 0, 0, 0, 0, 0, 0,\n",
              "        0, 0, 1, 0, 1, 0, 1, 0, 1, 0, 0, 0, 0, 0, 0, 0, 0, 0, 0, 0, 0, 0,\n",
              "        0, 0, 0, 0, 0, 0, 1, 0, 1, 0, 1, 0, 1, 1, 0, 1, 0, 1, 1, 0, 0, 0,\n",
              "        0, 1, 0, 1, 0, 1, 1, 1, 0, 1, 1, 0, 0, 0, 0, 1, 0, 1, 0, 1, 0, 1,\n",
              "        0, 1, 0, 1, 0, 1, 1, 0, 1, 0, 1, 1, 0, 1, 0, 1, 1, 0, 1, 0, 1, 0,\n",
              "        1, 0, 1, 1, 0, 1, 0, 0, 1, 0, 1, 1, 0, 1, 0, 1, 0, 1, 0, 1, 1, 0,\n",
              "        1, 0, 1, 0, 1, 0, 1, 1, 0, 1, 0, 1, 1, 0, 0, 1, 0, 1, 0, 1, 0]),\n",
              " array([1, 0, 1, 1, 0, 1, 1, 1, 0, 0, 0, 0, 1, 0, 1, 0, 1, 0, 1, 0, 1, 0,\n",
              "        1, 0, 1, 1, 0, 1, 0, 1, 0, 1, 0, 1, 0, 1, 0, 1, 0, 1, 1, 0, 1, 1,\n",
              "        1, 1, 0, 0, 0, 0, 1, 0, 1, 1, 1, 0, 1, 0, 1, 0, 1, 0, 1, 1, 1, 0,\n",
              "        1, 0, 1, 0, 1, 0, 1, 1, 0, 1, 0, 1, 0, 0, 1, 0, 1, 0, 1, 0, 1, 1,\n",
              "        0, 1, 0, 1, 0, 1, 1, 0, 1, 0, 1, 0, 1, 0, 1, 0, 1, 0, 1, 0, 1, 0,\n",
              "        1, 1, 0, 1, 0, 1, 1, 0, 1, 0, 1, 0, 0, 1, 0, 1, 0, 1, 0, 1, 0, 1,\n",
              "        0, 1, 1, 1, 0, 1, 0, 1, 0, 1, 0, 1, 0, 1, 0, 1, 0, 1, 0, 1, 0, 1,\n",
              "        0, 1, 0, 1, 0, 1, 0, 1, 1, 0, 1, 0, 1, 0, 1, 0, 1, 0, 1]),\n",
              " array([1, 1, 1, 0, 0, 0, 1, 0, 1, 0, 1, 0, 1, 0, 1, 0, 1, 0, 1, 0, 1, 0,\n",
              "        0, 0, 0, 1, 0, 1, 0, 1, 0, 1, 0]),\n",
              " array([0, 0, 0, 0, 0, 0, 0, 0, 0, 0, 0, 0, 0, 0, 0, 0, 0, 0, 0, 0, 0, 0,\n",
              "        0, 0, 0, 0, 0, 0, 0, 0, 0, 0, 0, 0]),\n",
              " array([1, 0, 1, 0, 0, 1, 0, 1, 0, 1, 0, 0, 0, 0, 0, 0, 1, 1, 1, 1, 0, 0,\n",
              "        0, 0, 0, 0, 0, 0, 0, 0, 0, 0, 0, 0, 0, 0, 1, 1, 1, 0, 0, 0, 0, 0,\n",
              "        0, 0, 0, 0, 0, 0, 0, 0, 0, 1, 0, 0, 0, 0, 0, 0, 0, 0, 0, 0, 0, 0,\n",
              "        0, 0, 0, 0, 0, 0, 0, 1, 1, 1, 1, 1]),\n",
              " array([0, 0, 0, 0, 0, 0, 0, 0, 0, 0, 0, 0, 0, 0, 0, 0, 0, 0, 0, 0, 0, 0,\n",
              "        0, 0, 0, 0, 0, 0, 0, 0, 0, 0, 0, 0, 0, 0, 0, 0, 0, 0, 0, 0, 0, 0,\n",
              "        0, 0, 0, 0, 0, 0, 0, 0, 0, 0, 0]),\n",
              " array([1, 1, 1, 1, 1, 1, 1, 1, 1, 1, 1, 1, 1, 1, 1, 1, 1, 1, 1, 1, 1, 1,\n",
              "        1, 1, 1, 1, 1, 1, 1, 1, 1, 1, 1, 1, 1, 1, 1, 1, 1, 1, 1, 1, 1, 1,\n",
              "        1, 1, 1, 1, 1, 1, 1, 1, 1, 1, 1, 1, 1, 1, 1, 1]),\n",
              " array([0, 0, 0, 1, 1, 0, 1, 1, 1, 0, 1, 1, 0, 1, 1, 0, 1, 0, 1, 0, 0, 1,\n",
              "        1, 0, 1, 0, 1, 0, 1, 0, 0, 0, 1, 1, 1, 0, 1, 0, 1, 0, 1, 1, 0, 1,\n",
              "        0, 1, 0, 1, 1, 1, 1, 0, 1, 0, 1, 0, 1, 1]),\n",
              " array([1, 0, 1, 0, 0, 0, 0, 0, 1, 1, 1, 1, 1, 1, 1, 0, 0, 0, 0, 1, 0, 1,\n",
              "        0, 1, 0, 1, 0, 0, 1, 0, 0, 0, 1, 1, 1, 1, 1, 1, 1, 0, 0, 0, 0, 0,\n",
              "        1, 1, 1, 0, 0, 0, 1, 1, 1, 1, 0, 0, 0, 1, 1, 0, 0, 0, 1, 1, 1, 0,\n",
              "        0, 0]),\n",
              " array([1, 1, 0, 1, 0, 0, 1, 0, 0, 0, 0, 1, 0, 1, 1, 0, 0, 1, 1, 0, 1, 0,\n",
              "        0, 1, 1, 1, 0, 1, 0, 0, 1, 0, 1, 1, 0, 1, 1, 1, 0, 0, 0, 1, 0, 1,\n",
              "        1, 0, 0, 1, 0, 1, 1, 0, 1, 1, 1, 0, 1, 1, 0, 0, 1, 0]),\n",
              " array([1, 1, 0, 1, 0, 1, 0, 1, 1, 0, 1, 1, 1, 1, 0, 1, 0, 1, 0, 1, 0, 1,\n",
              "        0, 1, 0, 1, 0, 1, 0, 1, 0, 1, 0, 1, 0, 1, 0, 1, 0, 1, 0, 1, 0, 1,\n",
              "        1, 0, 0, 1, 1, 0, 1, 1, 1, 1, 1, 1, 1, 1, 1, 1, 1, 1, 1, 1, 0, 0,\n",
              "        0, 0, 0, 0, 0, 0, 0, 0, 1, 0, 1, 0, 1, 0, 1, 0, 1, 0, 1, 0, 1, 1,\n",
              "        1, 0, 1, 0, 1, 0, 1, 0, 1, 0, 1, 0, 1, 1, 0, 1, 0, 1, 0, 1, 0, 1,\n",
              "        0, 1, 0, 1, 0]),\n",
              " array([1, 0, 0, 0, 1, 1, 0, 1, 0, 0, 1, 1, 0, 1, 0, 0, 0, 1, 0, 1, 1, 1,\n",
              "        1, 1, 0])]"
            ]
          },
          "execution_count": 32,
          "metadata": {},
          "output_type": "execute_result"
        }
      ],
      "source": [
        "a = []\n",
        "for str in pof:\n",
        "    b = np.array([int(c == 'P') for c in list(str.upper()) if c in ['P', 'F']])\n",
        "    a.append(b)\n",
        "a"
      ]
    },
    {
      "cell_type": "code",
      "execution_count": 33,
      "metadata": {},
      "outputs": [],
      "source": [
        "# a = []\n",
        "# b = []\n",
        "# for element in pof:\n",
        "#     b = []\n",
        "#     for letter in element:\n",
        "#         if letter.upper() in ['P', 'F']:\n",
        "#             b.append(letter.upper())\n",
        "#     a.append(np.array(b))"
      ]
    },
    {
      "cell_type": "markdown",
      "metadata": {
        "id": "ipDvolcQMpo6"
      },
      "source": [
        "### 3.2 Calculez la moyenne des piles et la moyenne des changements P/F ou F/P.\n",
        "\n",
        "On commence par concaténer tous les tableaux et on compte.\n",
        "On va comparer ces moyennes."
      ]
    },
    {
      "cell_type": "code",
      "execution_count": 34,
      "metadata": {
        "id": "qqUNAoFii6TV"
      },
      "outputs": [],
      "source": [
        "A = np.concatenate(a)"
      ]
    },
    {
      "cell_type": "code",
      "execution_count": 35,
      "metadata": {
        "colab": {
          "base_uri": "https://localhost:8080/"
        },
        "id": "W7lX-gaKKrkN",
        "outputId": "085d2926-17d1-47e0-c5f5-0f36085fc34e"
      },
      "outputs": [
        {
          "name": "stdout",
          "output_type": "stream",
          "text": [
            "On a 1340 lancés.\n"
          ]
        }
      ],
      "source": [
        "N = len(A)\n",
        "print(f\"On a {N} lancés.\")"
      ]
    },
    {
      "cell_type": "code",
      "execution_count": 38,
      "metadata": {
        "id": "pw-8fI1gjCOE"
      },
      "outputs": [],
      "source": [
        "pP = sum(A)/N\n",
        "pC = sum(abs(np.diff(A)))/(N-1)"
      ]
    },
    {
      "cell_type": "code",
      "execution_count": 39,
      "metadata": {
        "colab": {
          "base_uri": "https://localhost:8080/"
        },
        "id": "yF40hppnVxf3",
        "outputId": "67ee7cf1-dedd-4032-ef40-62bcb685975b"
      },
      "outputs": [
        {
          "name": "stdout",
          "output_type": "stream",
          "text": [
            "Probabilité d'avoir un pile       = 0.48\n",
            "Probabilité d'avoir un changement = 0.56\n"
          ]
        }
      ],
      "source": [
        "print(f\"Probabilité d'avoir un pile       = {pP:.2}\")\n",
        "print(f\"Probabilité d'avoir un changement = {pC:.2}\")"
      ]
    },
    {
      "cell_type": "markdown",
      "metadata": {
        "id": "10ejWC9oVrAr"
      },
      "source": [
        "On s'est arrangé pour avoir plus de 30 lancés donc on peut considérer que les proportions sont des gaussienne et on va les comparer à 1/2 qui devrait être le résultat obtenu.\n",
        "\n",
        "Dans ce cas l'écart $Z=\\frac{(\\hat{p}-p)}{\\sqrt{(p(1-p)/N)}}$ doit se trouver dans l'intervalle à 95% des gaussienne normales soit $[-1.96, +1.96]$."
      ]
    },
    {
      "cell_type": "code",
      "execution_count": 41,
      "metadata": {
        "id": "WYQSPRLuXw2H"
      },
      "outputs": [
        {
          "data": {
            "text/plain": [
              "-1.4751675847120143"
            ]
          },
          "execution_count": 41,
          "metadata": {},
          "output_type": "execute_result"
        }
      ],
      "source": [
        "zP = (pP - 0.5)/np.sqrt(0.25/N)\n",
        "zP"
      ]
    },
    {
      "cell_type": "code",
      "execution_count": 42,
      "metadata": {},
      "outputs": [
        {
          "data": {
            "text/plain": [
              "4.2905143999619435"
            ]
          },
          "execution_count": 42,
          "metadata": {},
          "output_type": "execute_result"
        }
      ],
      "source": [
        "zC = (pC - 0.5)/np.sqrt(0.25/(N-1))\n",
        "zC"
      ]
    },
    {
      "cell_type": "code",
      "execution_count": 43,
      "metadata": {},
      "outputs": [
        {
          "data": {
            "text/plain": [
              "421.9596939713523"
            ]
          },
          "execution_count": 43,
          "metadata": {},
          "output_type": "execute_result"
        }
      ],
      "source": [
        "zPC = (zC-zP)/np.sqrt(0.25/(N-1))\n",
        "zPC"
      ]
    },
    {
      "cell_type": "markdown",
      "metadata": {
        "id": "rMf9nPUhYaqE"
      },
      "source": [
        "Conclure."
      ]
    },
    {
      "cell_type": "markdown",
      "metadata": {
        "id": "1fCqT3B7Y_k8"
      },
      "source": [
        "### 4. Affichage des distributions de proportions.\n",
        "Pour chaque utilisateur, calculer la proportion normalisée de piles et celle de changements.\n",
        "\n",
        "Affichez les fonctions de distribution et/ou les densités et comparer avec la gaussienne standard réduite."
      ]
    },
    {
      "cell_type": "code",
      "execution_count": null,
      "metadata": {
        "id": "kTz-_qjtgUpN"
      },
      "outputs": [],
      "source": [
        "da = pd.DataFrame(columns=['Type', 'Z'])\n",
        "for b in a:\n",
        "    n = len(b)\n",
        "    if n<2:\n",
        "        continue\n",
        "    pP = sum(b)/n\n",
        "    pC = sum(abs(np.diff(b)))/(n-1)\n",
        "    zP = (pP - 0.5)/np.sqrt(0.25/n)\n",
        "    zC = (pC - 0.5)/np.sqrt(0.25*(n-1))\n",
        "    da = da.append({'Type' : 'P', 'Z' : zP}, ignore_index=True)\n",
        "    da = da.append({'Type' : 'N', 'Z' : np.random.normal()}, ignore_index=True)\n",
        "    da = da.append({'Type' : 'C', 'Z' : zC}, ignore_index=True)"
      ]
    },
    {
      "cell_type": "code",
      "execution_count": 51,
      "metadata": {},
      "outputs": [
        {
          "data": {
            "text/plain": [
              "Text(0.5, 1.0, 'Comapraison des distributions')"
            ]
          },
          "execution_count": 51,
          "metadata": {},
          "output_type": "execute_result"
        },
        {
          "data": {
            "image/png": "[encoded data removed]",
            "text/plain": [
              "<Figure size 566x500 with 1 Axes>"
            ]
          },
          "metadata": {},
          "output_type": "display_data"
        }
      ],
      "source": [
        "sns.set_theme()\n",
        "sns.displot(data=da, kind='ecdf', x='Z', hue='Type')\n",
        "plt.title('Comapraison des distributions')"
      ]
    },
    {
      "cell_type": "markdown",
      "metadata": {
        "id": "Ksdtjz6WkgeE"
      },
      "source": [
        "![image.png](data:image/png;base64,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)"
      ]
    },
    {
      "cell_type": "code",
      "execution_count": 52,
      "metadata": {
        "id": "KFnybkK1kkr8"
      },
      "outputs": [
        {
          "data": {
            "text/plain": [
              "Text(0.5, 1.0, 'Comapraison des distributions')"
            ]
          },
          "execution_count": 52,
          "metadata": {},
          "output_type": "execute_result"
        },
        {
          "data": {
            "image/png": "[encoded data removed]",
            "text/plain": [
              "<Figure size 566x500 with 1 Axes>"
            ]
          },
          "metadata": {},
          "output_type": "display_data"
        }
      ],
      "source": [
        "sns.set_theme()\n",
        "sns.displot(data=da, kind='kde', x='Z', hue='Type')\n",
        "plt.title('Comapraison des distributions')"
      ]
    },
    {
      "cell_type": "code",
      "execution_count": null,
      "metadata": {},
      "outputs": [],
      "source": []
    }
  ],
  "metadata": {
    "colab": {
      "provenance": []
    },
    "kernelspec": {
      "display_name": "Python 3",
      "name": "python3"
    },
    "language_info": {
      "codemirror_mode": {
        "name": "ipython",
        "version": 3
      },
      "file_extension": ".py",
      "mimetype": "text/x-python",
      "name": "python",
      "nbconvert_exporter": "python",
      "pygments_lexer": "ipython3",
      "version": "3.9.13"
    }
  },
  "nbformat": 4,
  "nbformat_minor": 0
}
